{
  "nbformat": 4,
  "nbformat_minor": 0,
  "metadata": {
    "colab": {
      "name": "영화 추천.ipynb",
      "provenance": [],
      "collapsed_sections": []
    },
    "kernelspec": {
      "name": "python3",
      "display_name": "Python 3"
    },
    "language_info": {
      "name": "python"
    }
  },
  "cells": [
    {
      "cell_type": "markdown",
      "source": [
        "https://haystar.tistory.com/11\n",
        "https://blog.naver.com/myincizor/221827098614"
      ],
      "metadata": {
        "id": "h-8ZjtESLZEb"
      }
    },
    {
      "cell_type": "markdown",
      "source": [
        "#라이브러리 설치 및 불러오기"
      ],
      "metadata": {
        "id": "jPZ5b1Z376lR"
      }
    },
    {
      "cell_type": "code",
      "source": [
        "!pip install konlpy"
      ],
      "metadata": {
        "colab": {
          "base_uri": "https://localhost:8080/"
        },
        "id": "rrp73JCNiOk6",
        "outputId": "b7399374-e538-4708-e2ac-bf4a6c0a7bc7"
      },
      "execution_count": null,
      "outputs": [
        {
          "output_type": "stream",
          "name": "stdout",
          "text": [
            "Looking in indexes: https://pypi.org/simple, https://us-python.pkg.dev/colab-wheels/public/simple/\n",
            "Collecting konlpy\n",
            "  Downloading konlpy-0.6.0-py2.py3-none-any.whl (19.4 MB)\n",
            "\u001b[K     |████████████████████████████████| 19.4 MB 1.2 MB/s \n",
            "\u001b[?25hCollecting JPype1>=0.7.0\n",
            "  Downloading JPype1-1.4.0-cp37-cp37m-manylinux_2_5_x86_64.manylinux1_x86_64.whl (453 kB)\n",
            "\u001b[K     |████████████████████████████████| 453 kB 50.3 MB/s \n",
            "\u001b[?25hRequirement already satisfied: lxml>=4.1.0 in /usr/local/lib/python3.7/dist-packages (from konlpy) (4.2.6)\n",
            "Requirement already satisfied: numpy>=1.6 in /usr/local/lib/python3.7/dist-packages (from konlpy) (1.21.6)\n",
            "Requirement already satisfied: typing-extensions in /usr/local/lib/python3.7/dist-packages (from JPype1>=0.7.0->konlpy) (4.1.1)\n",
            "Installing collected packages: JPype1, konlpy\n",
            "Successfully installed JPype1-1.4.0 konlpy-0.6.0\n"
          ]
        }
      ]
    },
    {
      "cell_type": "code",
      "source": [
        "import pandas as pd\n",
        "import re #파이썬 내장 모듈\n",
        "from konlpy.tag import Okt \n",
        "from collections import Counter #파이썬 내장 모듈"
      ],
      "metadata": {
        "id": "xvXJWX-NfZV7"
      },
      "execution_count": null,
      "outputs": []
    },
    {
      "cell_type": "markdown",
      "source": [
        "#영화 데이터 불러오기"
      ],
      "metadata": {
        "id": "I9g_JqaY7_ve"
      }
    },
    {
      "cell_type": "code",
      "source": [
        "movieData = 'movieList.csv'\n",
        "movieData = pd.read_csv(movieData,index_col=[0])\n",
        "movieData.head(5)"
      ],
      "metadata": {
        "colab": {
          "base_uri": "https://localhost:8080/",
          "height": 206
        },
        "id": "KdecCWmse6IG",
        "outputId": "08ecfbd7-5626-4827-a268-631282dc097d"
      },
      "execution_count": null,
      "outputs": [
        {
          "output_type": "execute_result",
          "data": {
            "text/plain": [
              "                     title  rate  \\\n",
              "0                  뷰티플 마인드   9.9   \n",
              "1   뷰티플 마인드(가치봄영화:시청각장애인용)   9.9   \n",
              "2     극장판 은혼 완결편 해결사여 영원하라   9.9   \n",
              "3            몬스타엑스 : 더 드리밍   9.8   \n",
              "4  디지몬 어드벤처 2기: 우리들의 워 게임!   9.8   \n",
              "\n",
              "                                         description  \n",
              "0  세상 극과 극의 개성으로 뭉친 ‘뷰티플마인드’의 멤버들 알고 보니, 마음 속 고민의...  \n",
              "1  세상 극과 극의 개성으로 뭉친 ‘뷰티플마인드’의 멤버들 알고 보니, 마음 속 고민의...  \n",
              "2  \"어떤 힘\"에 의해 자신이 없는 미래의 세계에 날아가버린 긴토키는 붕괴해버린 에도의...  \n",
              "3  강렬한 퍼포먼스와 파워풀하고 완성도 높은 무대로 전 세계의 수많은 팬들에게 아름다운...  \n",
              "4  디지털 월드의 모험으로부터 반 년 후. 인터넷 상에는 전 세계의 디지털 데이터를 먹...  "
            ],
            "text/html": [
              "\n",
              "  <div id=\"df-8e38a55c-6b61-4994-9034-44f67428fe95\">\n",
              "    <div class=\"colab-df-container\">\n",
              "      <div>\n",
              "<style scoped>\n",
              "    .dataframe tbody tr th:only-of-type {\n",
              "        vertical-align: middle;\n",
              "    }\n",
              "\n",
              "    .dataframe tbody tr th {\n",
              "        vertical-align: top;\n",
              "    }\n",
              "\n",
              "    .dataframe thead th {\n",
              "        text-align: right;\n",
              "    }\n",
              "</style>\n",
              "<table border=\"1\" class=\"dataframe\">\n",
              "  <thead>\n",
              "    <tr style=\"text-align: right;\">\n",
              "      <th></th>\n",
              "      <th>title</th>\n",
              "      <th>rate</th>\n",
              "      <th>description</th>\n",
              "    </tr>\n",
              "  </thead>\n",
              "  <tbody>\n",
              "    <tr>\n",
              "      <th>0</th>\n",
              "      <td>뷰티플 마인드</td>\n",
              "      <td>9.9</td>\n",
              "      <td>세상 극과 극의 개성으로 뭉친 ‘뷰티플마인드’의 멤버들 알고 보니, 마음 속 고민의...</td>\n",
              "    </tr>\n",
              "    <tr>\n",
              "      <th>1</th>\n",
              "      <td>뷰티플 마인드(가치봄영화:시청각장애인용)</td>\n",
              "      <td>9.9</td>\n",
              "      <td>세상 극과 극의 개성으로 뭉친 ‘뷰티플마인드’의 멤버들 알고 보니, 마음 속 고민의...</td>\n",
              "    </tr>\n",
              "    <tr>\n",
              "      <th>2</th>\n",
              "      <td>극장판 은혼 완결편 해결사여 영원하라</td>\n",
              "      <td>9.9</td>\n",
              "      <td>\"어떤 힘\"에 의해 자신이 없는 미래의 세계에 날아가버린 긴토키는 붕괴해버린 에도의...</td>\n",
              "    </tr>\n",
              "    <tr>\n",
              "      <th>3</th>\n",
              "      <td>몬스타엑스 : 더 드리밍</td>\n",
              "      <td>9.8</td>\n",
              "      <td>강렬한 퍼포먼스와 파워풀하고 완성도 높은 무대로 전 세계의 수많은 팬들에게 아름다운...</td>\n",
              "    </tr>\n",
              "    <tr>\n",
              "      <th>4</th>\n",
              "      <td>디지몬 어드벤처 2기: 우리들의 워 게임!</td>\n",
              "      <td>9.8</td>\n",
              "      <td>디지털 월드의 모험으로부터 반 년 후. 인터넷 상에는 전 세계의 디지털 데이터를 먹...</td>\n",
              "    </tr>\n",
              "  </tbody>\n",
              "</table>\n",
              "</div>\n",
              "      <button class=\"colab-df-convert\" onclick=\"convertToInteractive('df-8e38a55c-6b61-4994-9034-44f67428fe95')\"\n",
              "              title=\"Convert this dataframe to an interactive table.\"\n",
              "              style=\"display:none;\">\n",
              "        \n",
              "  <svg xmlns=\"http://www.w3.org/2000/svg\" height=\"24px\"viewBox=\"0 0 24 24\"\n",
              "       width=\"24px\">\n",
              "    <path d=\"M0 0h24v24H0V0z\" fill=\"none\"/>\n",
              "    <path d=\"M18.56 5.44l.94 2.06.94-2.06 2.06-.94-2.06-.94-.94-2.06-.94 2.06-2.06.94zm-11 1L8.5 8.5l.94-2.06 2.06-.94-2.06-.94L8.5 2.5l-.94 2.06-2.06.94zm10 10l.94 2.06.94-2.06 2.06-.94-2.06-.94-.94-2.06-.94 2.06-2.06.94z\"/><path d=\"M17.41 7.96l-1.37-1.37c-.4-.4-.92-.59-1.43-.59-.52 0-1.04.2-1.43.59L10.3 9.45l-7.72 7.72c-.78.78-.78 2.05 0 2.83L4 21.41c.39.39.9.59 1.41.59.51 0 1.02-.2 1.41-.59l7.78-7.78 2.81-2.81c.8-.78.8-2.07 0-2.86zM5.41 20L4 18.59l7.72-7.72 1.47 1.35L5.41 20z\"/>\n",
              "  </svg>\n",
              "      </button>\n",
              "      \n",
              "  <style>\n",
              "    .colab-df-container {\n",
              "      display:flex;\n",
              "      flex-wrap:wrap;\n",
              "      gap: 12px;\n",
              "    }\n",
              "\n",
              "    .colab-df-convert {\n",
              "      background-color: #E8F0FE;\n",
              "      border: none;\n",
              "      border-radius: 50%;\n",
              "      cursor: pointer;\n",
              "      display: none;\n",
              "      fill: #1967D2;\n",
              "      height: 32px;\n",
              "      padding: 0 0 0 0;\n",
              "      width: 32px;\n",
              "    }\n",
              "\n",
              "    .colab-df-convert:hover {\n",
              "      background-color: #E2EBFA;\n",
              "      box-shadow: 0px 1px 2px rgba(60, 64, 67, 0.3), 0px 1px 3px 1px rgba(60, 64, 67, 0.15);\n",
              "      fill: #174EA6;\n",
              "    }\n",
              "\n",
              "    [theme=dark] .colab-df-convert {\n",
              "      background-color: #3B4455;\n",
              "      fill: #D2E3FC;\n",
              "    }\n",
              "\n",
              "    [theme=dark] .colab-df-convert:hover {\n",
              "      background-color: #434B5C;\n",
              "      box-shadow: 0px 1px 3px 1px rgba(0, 0, 0, 0.15);\n",
              "      filter: drop-shadow(0px 1px 2px rgba(0, 0, 0, 0.3));\n",
              "      fill: #FFFFFF;\n",
              "    }\n",
              "  </style>\n",
              "\n",
              "      <script>\n",
              "        const buttonEl =\n",
              "          document.querySelector('#df-8e38a55c-6b61-4994-9034-44f67428fe95 button.colab-df-convert');\n",
              "        buttonEl.style.display =\n",
              "          google.colab.kernel.accessAllowed ? 'block' : 'none';\n",
              "\n",
              "        async function convertToInteractive(key) {\n",
              "          const element = document.querySelector('#df-8e38a55c-6b61-4994-9034-44f67428fe95');\n",
              "          const dataTable =\n",
              "            await google.colab.kernel.invokeFunction('convertToInteractive',\n",
              "                                                     [key], {});\n",
              "          if (!dataTable) return;\n",
              "\n",
              "          const docLinkHtml = 'Like what you see? Visit the ' +\n",
              "            '<a target=\"_blank\" href=https://colab.research.google.com/notebooks/data_table.ipynb>data table notebook</a>'\n",
              "            + ' to learn more about interactive tables.';\n",
              "          element.innerHTML = '';\n",
              "          dataTable['output_type'] = 'display_data';\n",
              "          await google.colab.output.renderOutput(dataTable, element);\n",
              "          const docLink = document.createElement('div');\n",
              "          docLink.innerHTML = docLinkHtml;\n",
              "          element.appendChild(docLink);\n",
              "        }\n",
              "      </script>\n",
              "    </div>\n",
              "  </div>\n",
              "  "
            ]
          },
          "metadata": {},
          "execution_count": 4
        }
      ]
    },
    {
      "cell_type": "markdown",
      "source": [
        "#줄거리, 일기 전처리"
      ],
      "metadata": {
        "id": "8ZBgzuvr8EcE"
      }
    },
    {
      "cell_type": "code",
      "source": [
        "#한글표현만 냅두기\n",
        "def extract_word(text):\n",
        "    hangul = re.compile('[^가-힣]') \n",
        "    result = hangul.sub(' ', text) \n",
        "    return result"
      ],
      "metadata": {
        "id": "5eKRaAB_Clsi"
      },
      "execution_count": null,
      "outputs": []
    },
    {
      "cell_type": "code",
      "source": [
        "def make_wordlist(movie): #reviews = \" \".join(data['Review'].tolist())\n",
        "        #정규표현식 적용\n",
        "        words = extract_word(movie)\n",
        "        #형태소 추출\n",
        "        okt = Okt()\n",
        "        words = okt.morphs(words,stem=True)\n",
        "        #한글자 제거\n",
        "        words = [x for x in words if len(x)>1]\n",
        "        #불용어 제거\n",
        "        words = [x for x in words if x not in stopwords]\n",
        "        words = \" \".join(words)\n",
        "        return words"
      ],
      "metadata": {
        "id": "yCZFwzHfGNXt"
      },
      "execution_count": null,
      "outputs": []
    },
    {
      "cell_type": "code",
      "source": [
        "with open('stopwords.txt', 'r', encoding='ISO-8859-1') as f:\n",
        "    list_file = f.readlines()\n",
        "stopwords = list_file[0].split(\",\")"
      ],
      "metadata": {
        "id": "OT2LKVav6ZV8"
      },
      "execution_count": null,
      "outputs": []
    },
    {
      "cell_type": "code",
      "source": [
        "diary = {\n",
        "    'title' : '내 일기',\n",
        "    'rate' : 10,\n",
        "    'description' : '오늘 에버랜드는 너무 재밌었다. 원래 무서운걸 못타는데 너무 재밌게 탔다. 친구들하고 같이 타서 더 재밌었던 것 같다'\n",
        "}\n",
        "movieData = movieData.append(diary, ignore_index=True)"
      ],
      "metadata": {
        "id": "yppzWHSvpIgS"
      },
      "execution_count": null,
      "outputs": []
    },
    {
      "cell_type": "code",
      "source": [
        "movieData['description'] = movieData['description'].apply(lambda x:make_wordlist(x))\n",
        "movieData"
      ],
      "metadata": {
        "colab": {
          "base_uri": "https://localhost:8080/",
          "height": 424
        },
        "id": "leLVZTv1G9es",
        "outputId": "5080d134-f917-4861-aa09-9a527190d5c4"
      },
      "execution_count": null,
      "outputs": [
        {
          "output_type": "execute_result",
          "data": {
            "text/plain": [
              "                        title  rate  \\\n",
              "0                     뷰티플 마인드   9.9   \n",
              "1      뷰티플 마인드(가치봄영화:시청각장애인용)   9.9   \n",
              "2        극장판 은혼 완결편 해결사여 영원하라   9.9   \n",
              "3               몬스타엑스 : 더 드리밍   9.8   \n",
              "4     디지몬 어드벤처 2기: 우리들의 워 게임!   9.8   \n",
              "...                       ...   ...   \n",
              "2097                        퀼   8.6   \n",
              "2098                   공포의 보수   8.6   \n",
              "2099                     연풍연가   8.6   \n",
              "2100                 극장판 시로바코   8.6   \n",
              "2101                      플러버   8.6   \n",
              "\n",
              "                                            description  \n",
              "0     세상 개성 으로 뭉치다 뷰티플 마인드 멤버 보다 마음 고민 불협화음 까지 닮다 혼자...  \n",
              "1     세상 개성 으로 뭉치다 뷰티플 마인드 멤버 보다 마음 고민 불협화음 까지 닮다 혼자...  \n",
              "2     어떻다 의하다 자신 없다 미래 세계 날아가다 버리다 기다 토키 붕괴하다 버리다 도의...  \n",
              "3     강렬하다 퍼포먼스 파워 하고 완성 높다 무대 세계 수많다 에게 아름답다 충격 선사 ...  \n",
              "4     디지털 월드 모험 으로부터 인터넷 에는 세계 디지털 데이터 먹다 성장하다 흉악하다 ...  \n",
              "...                                                 ...  \n",
              "2097  도쿄 하다 주택 에서 리트리버 마리 태어나다 옆구리 날개 같다 이상하다 얼룩 띄다 ...  \n",
              "2098  불란서 마리오 이브 몽땅 늘다 남미 어느 하다 지방 으로 흐르다 들어오다 자신 처지...  \n",
              "2099  일상 벗어나다 주행 비행기 싣다 태희 장동건 여느 처럼 관광객 배웅 하다 관광가이드...  \n",
              "2100  함께 애니메이션 작품 만들다 자고 약속 하다 카미노 야마 고교 애니메이션 동호회 다...  \n",
              "2101  필립 브레이 너드 교수 로빈 윌리암스 늘다 매사 너무 생각 골똘하 언뜻 보다 나가다...  \n",
              "\n",
              "[2102 rows x 3 columns]"
            ],
            "text/html": [
              "\n",
              "  <div id=\"df-bbdfe62f-684b-482a-8f76-db332388eac5\">\n",
              "    <div class=\"colab-df-container\">\n",
              "      <div>\n",
              "<style scoped>\n",
              "    .dataframe tbody tr th:only-of-type {\n",
              "        vertical-align: middle;\n",
              "    }\n",
              "\n",
              "    .dataframe tbody tr th {\n",
              "        vertical-align: top;\n",
              "    }\n",
              "\n",
              "    .dataframe thead th {\n",
              "        text-align: right;\n",
              "    }\n",
              "</style>\n",
              "<table border=\"1\" class=\"dataframe\">\n",
              "  <thead>\n",
              "    <tr style=\"text-align: right;\">\n",
              "      <th></th>\n",
              "      <th>title</th>\n",
              "      <th>rate</th>\n",
              "      <th>description</th>\n",
              "    </tr>\n",
              "  </thead>\n",
              "  <tbody>\n",
              "    <tr>\n",
              "      <th>0</th>\n",
              "      <td>뷰티플 마인드</td>\n",
              "      <td>9.9</td>\n",
              "      <td>세상 개성 으로 뭉치다 뷰티플 마인드 멤버 보다 마음 고민 불협화음 까지 닮다 혼자...</td>\n",
              "    </tr>\n",
              "    <tr>\n",
              "      <th>1</th>\n",
              "      <td>뷰티플 마인드(가치봄영화:시청각장애인용)</td>\n",
              "      <td>9.9</td>\n",
              "      <td>세상 개성 으로 뭉치다 뷰티플 마인드 멤버 보다 마음 고민 불협화음 까지 닮다 혼자...</td>\n",
              "    </tr>\n",
              "    <tr>\n",
              "      <th>2</th>\n",
              "      <td>극장판 은혼 완결편 해결사여 영원하라</td>\n",
              "      <td>9.9</td>\n",
              "      <td>어떻다 의하다 자신 없다 미래 세계 날아가다 버리다 기다 토키 붕괴하다 버리다 도의...</td>\n",
              "    </tr>\n",
              "    <tr>\n",
              "      <th>3</th>\n",
              "      <td>몬스타엑스 : 더 드리밍</td>\n",
              "      <td>9.8</td>\n",
              "      <td>강렬하다 퍼포먼스 파워 하고 완성 높다 무대 세계 수많다 에게 아름답다 충격 선사 ...</td>\n",
              "    </tr>\n",
              "    <tr>\n",
              "      <th>4</th>\n",
              "      <td>디지몬 어드벤처 2기: 우리들의 워 게임!</td>\n",
              "      <td>9.8</td>\n",
              "      <td>디지털 월드 모험 으로부터 인터넷 에는 세계 디지털 데이터 먹다 성장하다 흉악하다 ...</td>\n",
              "    </tr>\n",
              "    <tr>\n",
              "      <th>...</th>\n",
              "      <td>...</td>\n",
              "      <td>...</td>\n",
              "      <td>...</td>\n",
              "    </tr>\n",
              "    <tr>\n",
              "      <th>2097</th>\n",
              "      <td>퀼</td>\n",
              "      <td>8.6</td>\n",
              "      <td>도쿄 하다 주택 에서 리트리버 마리 태어나다 옆구리 날개 같다 이상하다 얼룩 띄다 ...</td>\n",
              "    </tr>\n",
              "    <tr>\n",
              "      <th>2098</th>\n",
              "      <td>공포의 보수</td>\n",
              "      <td>8.6</td>\n",
              "      <td>불란서 마리오 이브 몽땅 늘다 남미 어느 하다 지방 으로 흐르다 들어오다 자신 처지...</td>\n",
              "    </tr>\n",
              "    <tr>\n",
              "      <th>2099</th>\n",
              "      <td>연풍연가</td>\n",
              "      <td>8.6</td>\n",
              "      <td>일상 벗어나다 주행 비행기 싣다 태희 장동건 여느 처럼 관광객 배웅 하다 관광가이드...</td>\n",
              "    </tr>\n",
              "    <tr>\n",
              "      <th>2100</th>\n",
              "      <td>극장판 시로바코</td>\n",
              "      <td>8.6</td>\n",
              "      <td>함께 애니메이션 작품 만들다 자고 약속 하다 카미노 야마 고교 애니메이션 동호회 다...</td>\n",
              "    </tr>\n",
              "    <tr>\n",
              "      <th>2101</th>\n",
              "      <td>플러버</td>\n",
              "      <td>8.6</td>\n",
              "      <td>필립 브레이 너드 교수 로빈 윌리암스 늘다 매사 너무 생각 골똘하 언뜻 보다 나가다...</td>\n",
              "    </tr>\n",
              "  </tbody>\n",
              "</table>\n",
              "<p>2102 rows × 3 columns</p>\n",
              "</div>\n",
              "      <button class=\"colab-df-convert\" onclick=\"convertToInteractive('df-bbdfe62f-684b-482a-8f76-db332388eac5')\"\n",
              "              title=\"Convert this dataframe to an interactive table.\"\n",
              "              style=\"display:none;\">\n",
              "        \n",
              "  <svg xmlns=\"http://www.w3.org/2000/svg\" height=\"24px\"viewBox=\"0 0 24 24\"\n",
              "       width=\"24px\">\n",
              "    <path d=\"M0 0h24v24H0V0z\" fill=\"none\"/>\n",
              "    <path d=\"M18.56 5.44l.94 2.06.94-2.06 2.06-.94-2.06-.94-.94-2.06-.94 2.06-2.06.94zm-11 1L8.5 8.5l.94-2.06 2.06-.94-2.06-.94L8.5 2.5l-.94 2.06-2.06.94zm10 10l.94 2.06.94-2.06 2.06-.94-2.06-.94-.94-2.06-.94 2.06-2.06.94z\"/><path d=\"M17.41 7.96l-1.37-1.37c-.4-.4-.92-.59-1.43-.59-.52 0-1.04.2-1.43.59L10.3 9.45l-7.72 7.72c-.78.78-.78 2.05 0 2.83L4 21.41c.39.39.9.59 1.41.59.51 0 1.02-.2 1.41-.59l7.78-7.78 2.81-2.81c.8-.78.8-2.07 0-2.86zM5.41 20L4 18.59l7.72-7.72 1.47 1.35L5.41 20z\"/>\n",
              "  </svg>\n",
              "      </button>\n",
              "      \n",
              "  <style>\n",
              "    .colab-df-container {\n",
              "      display:flex;\n",
              "      flex-wrap:wrap;\n",
              "      gap: 12px;\n",
              "    }\n",
              "\n",
              "    .colab-df-convert {\n",
              "      background-color: #E8F0FE;\n",
              "      border: none;\n",
              "      border-radius: 50%;\n",
              "      cursor: pointer;\n",
              "      display: none;\n",
              "      fill: #1967D2;\n",
              "      height: 32px;\n",
              "      padding: 0 0 0 0;\n",
              "      width: 32px;\n",
              "    }\n",
              "\n",
              "    .colab-df-convert:hover {\n",
              "      background-color: #E2EBFA;\n",
              "      box-shadow: 0px 1px 2px rgba(60, 64, 67, 0.3), 0px 1px 3px 1px rgba(60, 64, 67, 0.15);\n",
              "      fill: #174EA6;\n",
              "    }\n",
              "\n",
              "    [theme=dark] .colab-df-convert {\n",
              "      background-color: #3B4455;\n",
              "      fill: #D2E3FC;\n",
              "    }\n",
              "\n",
              "    [theme=dark] .colab-df-convert:hover {\n",
              "      background-color: #434B5C;\n",
              "      box-shadow: 0px 1px 3px 1px rgba(0, 0, 0, 0.15);\n",
              "      filter: drop-shadow(0px 1px 2px rgba(0, 0, 0, 0.3));\n",
              "      fill: #FFFFFF;\n",
              "    }\n",
              "  </style>\n",
              "\n",
              "      <script>\n",
              "        const buttonEl =\n",
              "          document.querySelector('#df-bbdfe62f-684b-482a-8f76-db332388eac5 button.colab-df-convert');\n",
              "        buttonEl.style.display =\n",
              "          google.colab.kernel.accessAllowed ? 'block' : 'none';\n",
              "\n",
              "        async function convertToInteractive(key) {\n",
              "          const element = document.querySelector('#df-bbdfe62f-684b-482a-8f76-db332388eac5');\n",
              "          const dataTable =\n",
              "            await google.colab.kernel.invokeFunction('convertToInteractive',\n",
              "                                                     [key], {});\n",
              "          if (!dataTable) return;\n",
              "\n",
              "          const docLinkHtml = 'Like what you see? Visit the ' +\n",
              "            '<a target=\"_blank\" href=https://colab.research.google.com/notebooks/data_table.ipynb>data table notebook</a>'\n",
              "            + ' to learn more about interactive tables.';\n",
              "          element.innerHTML = '';\n",
              "          dataTable['output_type'] = 'display_data';\n",
              "          await google.colab.output.renderOutput(dataTable, element);\n",
              "          const docLink = document.createElement('div');\n",
              "          docLink.innerHTML = docLinkHtml;\n",
              "          element.appendChild(docLink);\n",
              "        }\n",
              "      </script>\n",
              "    </div>\n",
              "  </div>\n",
              "  "
            ]
          },
          "metadata": {},
          "execution_count": 8
        }
      ]
    },
    {
      "cell_type": "code",
      "source": [
        "movieData.to_csv('prepro_movieList.csv')"
      ],
      "metadata": {
        "id": "lxa1xeoFdjMx"
      },
      "execution_count": null,
      "outputs": []
    },
    {
      "cell_type": "code",
      "source": [
        "print(movieData[movieData['title']== '내 일기'])"
      ],
      "metadata": {
        "colab": {
          "base_uri": "https://localhost:8080/"
        },
        "id": "XeCwvAb4qpM9",
        "outputId": "0f2be067-f193-4527-8b12-2bd005085c02"
      },
      "execution_count": null,
      "outputs": [
        {
          "output_type": "stream",
          "name": "stdout",
          "text": [
            "Empty DataFrame\n",
            "Columns: [title, rate, description]\n",
            "Index: []\n"
          ]
        }
      ]
    },
    {
      "cell_type": "code",
      "source": [
        "idx = movieData[movieData['title']== '내 일기'].index\n",
        "movieData = movieData.drop(idx)"
      ],
      "metadata": {
        "id": "kYJ--ZOqQcb0"
      },
      "execution_count": null,
      "outputs": []
    },
    {
      "cell_type": "code",
      "source": [
        "#일기 데이터 전처리해서 df에 추가\n",
        "diary = {\n",
        "    'title' : '내 일기',\n",
        "    'rate' : 10,\n",
        "    'description' : ''\n",
        "}\n",
        "movieData = movieData.append(diary, ignore_index=True)\n"
      ],
      "metadata": {
        "id": "gAHly8RSOQoX"
      },
      "execution_count": null,
      "outputs": []
    },
    {
      "cell_type": "markdown",
      "source": [
        "#데이터 벡터화 및 코사인 유사도 측정"
      ],
      "metadata": {
        "id": "kRHPFnbq8I2i"
      }
    },
    {
      "cell_type": "code",
      "source": [
        "from sklearn.feature_extraction.text import TfidfVectorizer\n",
        "tfidf = TfidfVectorizer()\n",
        "tfidf_matrix = tfidf.fit_transform(movieData.description)\n",
        "# 줄거리에 대해서 tf-idf 수행\n",
        "print(tfidf_matrix.shape)"
      ],
      "metadata": {
        "colab": {
          "base_uri": "https://localhost:8080/"
        },
        "id": "g42R4TirJ4hP",
        "outputId": "abde999f-863d-4b23-fadf-27e6a70ed8d7"
      },
      "execution_count": null,
      "outputs": [
        {
          "output_type": "stream",
          "name": "stdout",
          "text": [
            "(2103, 20224)\n"
          ]
        }
      ]
    },
    {
      "cell_type": "code",
      "source": [
        "from sklearn.metrics.pairwise import linear_kernel\n",
        "cosine_sim = linear_kernel(tfidf_matrix, tfidf_matrix)"
      ],
      "metadata": {
        "id": "hROGbb-6NR_B"
      },
      "execution_count": null,
      "outputs": []
    },
    {
      "cell_type": "code",
      "source": [
        "\"\"\"인덱스 테이블 만들기\"\"\"\n",
        "indices = pd.Series(movieData.index, index=movieData.title).drop_duplicates()\n",
        "print(indices)"
      ],
      "metadata": {
        "colab": {
          "base_uri": "https://localhost:8080/"
        },
        "id": "GPGAtuHwNfqG",
        "outputId": "a09d67ee-4950-482b-b9d7-e91ca9eb7798"
      },
      "execution_count": null,
      "outputs": [
        {
          "output_type": "stream",
          "name": "stdout",
          "text": [
            "title\n",
            "뷰티플 마인드                       0\n",
            "뷰티플 마인드(가치봄영화:시청각장애인용)        1\n",
            "극장판 은혼 완결편 해결사여 영원하라          2\n",
            "몬스타엑스 : 더 드리밍                 3\n",
            "디지몬 어드벤처 2기: 우리들의 워 게임!       4\n",
            "                           ... \n",
            "공포의 보수                     2098\n",
            "연풍연가                       2099\n",
            "극장판 시로바코                   2100\n",
            "플러버                        2101\n",
            "내 일기                       2102\n",
            "Length: 2103, dtype: int64\n"
          ]
        }
      ]
    },
    {
      "cell_type": "code",
      "source": [
        "\"\"\"추천 해주기\"\"\"\n",
        "def movie_REC(title, cosine_sim=cosine_sim):\n",
        "    #입력한 영화로 부터 인덱스 가져오기\n",
        "    idx = indices[title]\n",
        "\n",
        "    # 모든 영화에 대해서 해당 영화와의 유사도를 구하기\n",
        "    sim_scores = list(enumerate(cosine_sim[idx]))\n",
        "\n",
        "    # 유사도에 따라 영화들을 정렬\n",
        "    sim_scores = sorted(sim_scores, key=lambda x:x[1], reverse = True)\n",
        "\n",
        "    # 가장 유사한 10개의 영화를 받아옴\n",
        "    sim_scores = sim_scores[1:11]\n",
        "\n",
        "    # 가장 유사한 10개 영화의 인덱스 받아옴\n",
        "    movie_indices = [i[0] for i in sim_scores]\n",
        "    \n",
        "    #기존에 읽어들인 데이터에서 해당 인덱스의 값들을 가져온다. 그리고 스코어 열을 추가하여 코사인 유사도도 확인할 수 있게 한다.\n",
        "    result_df = movieData.iloc[movie_indices].copy()\n",
        "    result_df['score'] = [i[1] for i in sim_scores]\n",
        "    \n",
        "    # 읽어들인 데이터에서 줄거리 부분만 제거, 제목과 스코어만 보이게 함\n",
        "    del result_df['description']\n",
        "\n",
        "    # 가장 유사한 10개의 영화의 제목을 리턴\n",
        "    return result_df"
      ],
      "metadata": {
        "id": "GIUBYpC7NtNB"
      },
      "execution_count": null,
      "outputs": []
    },
    {
      "cell_type": "code",
      "source": [
        "movie_REC('내 일기')"
      ],
      "metadata": {
        "colab": {
          "base_uri": "https://localhost:8080/",
          "height": 363
        },
        "id": "e__7nV9lN3-9",
        "outputId": "6614b032-d55e-4b56-9384-982dfbb853fc"
      },
      "execution_count": null,
      "outputs": [
        {
          "output_type": "execute_result",
          "data": {
            "text/plain": [
              "                         title  rate     score\n",
              "231                    폴리스 스토리   9.3  0.157754\n",
              "1575       극장판 헬로카봇:옴파로스 섬의 비밀   8.7  0.131922\n",
              "519                    칠곡 가시나들   9.2  0.131723\n",
              "1491                   1991, 봄   8.8  0.112020\n",
              "1382              매드맥스: 분노의 도로   8.8  0.109322\n",
              "1387  매드맥스: 분노의 도로(2.35:1 극장판)   8.8  0.109322\n",
              "1397   매드맥스: 분노의 도로(블랙&크롬 에디션)   8.8  0.109322\n",
              "34                         플루크   9.5  0.104655\n",
              "1616                   러시 아워 2   8.7  0.096466\n",
              "1165               그렇게 아버지가 된다   8.9  0.094579"
            ],
            "text/html": [
              "\n",
              "  <div id=\"df-9df4e23b-305b-4b26-8882-960dbf6b24f2\">\n",
              "    <div class=\"colab-df-container\">\n",
              "      <div>\n",
              "<style scoped>\n",
              "    .dataframe tbody tr th:only-of-type {\n",
              "        vertical-align: middle;\n",
              "    }\n",
              "\n",
              "    .dataframe tbody tr th {\n",
              "        vertical-align: top;\n",
              "    }\n",
              "\n",
              "    .dataframe thead th {\n",
              "        text-align: right;\n",
              "    }\n",
              "</style>\n",
              "<table border=\"1\" class=\"dataframe\">\n",
              "  <thead>\n",
              "    <tr style=\"text-align: right;\">\n",
              "      <th></th>\n",
              "      <th>title</th>\n",
              "      <th>rate</th>\n",
              "      <th>score</th>\n",
              "    </tr>\n",
              "  </thead>\n",
              "  <tbody>\n",
              "    <tr>\n",
              "      <th>231</th>\n",
              "      <td>폴리스 스토리</td>\n",
              "      <td>9.3</td>\n",
              "      <td>0.157754</td>\n",
              "    </tr>\n",
              "    <tr>\n",
              "      <th>1575</th>\n",
              "      <td>극장판 헬로카봇:옴파로스 섬의 비밀</td>\n",
              "      <td>8.7</td>\n",
              "      <td>0.131922</td>\n",
              "    </tr>\n",
              "    <tr>\n",
              "      <th>519</th>\n",
              "      <td>칠곡 가시나들</td>\n",
              "      <td>9.2</td>\n",
              "      <td>0.131723</td>\n",
              "    </tr>\n",
              "    <tr>\n",
              "      <th>1491</th>\n",
              "      <td>1991, 봄</td>\n",
              "      <td>8.8</td>\n",
              "      <td>0.112020</td>\n",
              "    </tr>\n",
              "    <tr>\n",
              "      <th>1382</th>\n",
              "      <td>매드맥스: 분노의 도로</td>\n",
              "      <td>8.8</td>\n",
              "      <td>0.109322</td>\n",
              "    </tr>\n",
              "    <tr>\n",
              "      <th>1387</th>\n",
              "      <td>매드맥스: 분노의 도로(2.35:1 극장판)</td>\n",
              "      <td>8.8</td>\n",
              "      <td>0.109322</td>\n",
              "    </tr>\n",
              "    <tr>\n",
              "      <th>1397</th>\n",
              "      <td>매드맥스: 분노의 도로(블랙&amp;크롬 에디션)</td>\n",
              "      <td>8.8</td>\n",
              "      <td>0.109322</td>\n",
              "    </tr>\n",
              "    <tr>\n",
              "      <th>34</th>\n",
              "      <td>플루크</td>\n",
              "      <td>9.5</td>\n",
              "      <td>0.104655</td>\n",
              "    </tr>\n",
              "    <tr>\n",
              "      <th>1616</th>\n",
              "      <td>러시 아워 2</td>\n",
              "      <td>8.7</td>\n",
              "      <td>0.096466</td>\n",
              "    </tr>\n",
              "    <tr>\n",
              "      <th>1165</th>\n",
              "      <td>그렇게 아버지가 된다</td>\n",
              "      <td>8.9</td>\n",
              "      <td>0.094579</td>\n",
              "    </tr>\n",
              "  </tbody>\n",
              "</table>\n",
              "</div>\n",
              "      <button class=\"colab-df-convert\" onclick=\"convertToInteractive('df-9df4e23b-305b-4b26-8882-960dbf6b24f2')\"\n",
              "              title=\"Convert this dataframe to an interactive table.\"\n",
              "              style=\"display:none;\">\n",
              "        \n",
              "  <svg xmlns=\"http://www.w3.org/2000/svg\" height=\"24px\"viewBox=\"0 0 24 24\"\n",
              "       width=\"24px\">\n",
              "    <path d=\"M0 0h24v24H0V0z\" fill=\"none\"/>\n",
              "    <path d=\"M18.56 5.44l.94 2.06.94-2.06 2.06-.94-2.06-.94-.94-2.06-.94 2.06-2.06.94zm-11 1L8.5 8.5l.94-2.06 2.06-.94-2.06-.94L8.5 2.5l-.94 2.06-2.06.94zm10 10l.94 2.06.94-2.06 2.06-.94-2.06-.94-.94-2.06-.94 2.06-2.06.94z\"/><path d=\"M17.41 7.96l-1.37-1.37c-.4-.4-.92-.59-1.43-.59-.52 0-1.04.2-1.43.59L10.3 9.45l-7.72 7.72c-.78.78-.78 2.05 0 2.83L4 21.41c.39.39.9.59 1.41.59.51 0 1.02-.2 1.41-.59l7.78-7.78 2.81-2.81c.8-.78.8-2.07 0-2.86zM5.41 20L4 18.59l7.72-7.72 1.47 1.35L5.41 20z\"/>\n",
              "  </svg>\n",
              "      </button>\n",
              "      \n",
              "  <style>\n",
              "    .colab-df-container {\n",
              "      display:flex;\n",
              "      flex-wrap:wrap;\n",
              "      gap: 12px;\n",
              "    }\n",
              "\n",
              "    .colab-df-convert {\n",
              "      background-color: #E8F0FE;\n",
              "      border: none;\n",
              "      border-radius: 50%;\n",
              "      cursor: pointer;\n",
              "      display: none;\n",
              "      fill: #1967D2;\n",
              "      height: 32px;\n",
              "      padding: 0 0 0 0;\n",
              "      width: 32px;\n",
              "    }\n",
              "\n",
              "    .colab-df-convert:hover {\n",
              "      background-color: #E2EBFA;\n",
              "      box-shadow: 0px 1px 2px rgba(60, 64, 67, 0.3), 0px 1px 3px 1px rgba(60, 64, 67, 0.15);\n",
              "      fill: #174EA6;\n",
              "    }\n",
              "\n",
              "    [theme=dark] .colab-df-convert {\n",
              "      background-color: #3B4455;\n",
              "      fill: #D2E3FC;\n",
              "    }\n",
              "\n",
              "    [theme=dark] .colab-df-convert:hover {\n",
              "      background-color: #434B5C;\n",
              "      box-shadow: 0px 1px 3px 1px rgba(0, 0, 0, 0.15);\n",
              "      filter: drop-shadow(0px 1px 2px rgba(0, 0, 0, 0.3));\n",
              "      fill: #FFFFFF;\n",
              "    }\n",
              "  </style>\n",
              "\n",
              "      <script>\n",
              "        const buttonEl =\n",
              "          document.querySelector('#df-9df4e23b-305b-4b26-8882-960dbf6b24f2 button.colab-df-convert');\n",
              "        buttonEl.style.display =\n",
              "          google.colab.kernel.accessAllowed ? 'block' : 'none';\n",
              "\n",
              "        async function convertToInteractive(key) {\n",
              "          const element = document.querySelector('#df-9df4e23b-305b-4b26-8882-960dbf6b24f2');\n",
              "          const dataTable =\n",
              "            await google.colab.kernel.invokeFunction('convertToInteractive',\n",
              "                                                     [key], {});\n",
              "          if (!dataTable) return;\n",
              "\n",
              "          const docLinkHtml = 'Like what you see? Visit the ' +\n",
              "            '<a target=\"_blank\" href=https://colab.research.google.com/notebooks/data_table.ipynb>data table notebook</a>'\n",
              "            + ' to learn more about interactive tables.';\n",
              "          element.innerHTML = '';\n",
              "          dataTable['output_type'] = 'display_data';\n",
              "          await google.colab.output.renderOutput(dataTable, element);\n",
              "          const docLink = document.createElement('div');\n",
              "          docLink.innerHTML = docLinkHtml;\n",
              "          element.appendChild(docLink);\n",
              "        }\n",
              "      </script>\n",
              "    </div>\n",
              "  </div>\n",
              "  "
            ]
          },
          "metadata": {},
          "execution_count": 30
        }
      ]
    }
  ]
}